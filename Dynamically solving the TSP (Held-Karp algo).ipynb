{
 "cells": [
  {
   "cell_type": "markdown",
   "metadata": {},
   "source": [
    "BE: DYNAMICALLY SOLVING THE TSP\n",
    "\n",
    "Authors: Guillaume Plobner, Raphael Mikati"
   ]
  },
  {
   "cell_type": "markdown",
   "metadata": {},
   "source": [
    "Q1: Let us use a distance matrix G to define as a relevant data structure to represent a graph. For any (i,j), G(i,j) is the distance between node i and node j."
   ]
  },
  {
   "cell_type": "code",
   "execution_count": 134,
   "metadata": {},
   "outputs": [
    {
     "name": "stdout",
     "output_type": "stream",
     "text": [
      "expected number of vertices : [0]\n",
      "\n",
      "reading point 0: (20833.3333, 17100.0)\n",
      "reading point 1: (20900.0, 17066.6667)\n",
      "reading point 2: (21300.0, 13016.6667)\n",
      "reading point 3: (21600.0, 14150.0)\n",
      "reading point 4: (21600.0, 14966.6667)\n",
      " \n",
      "number of vertices: 5\n"
     ]
    }
   ],
   "source": [
    "import numpy as np\n",
    "from scipy.spatial.distance import euclidean\n",
    "\n",
    "import sys\n",
    "\n",
    "with open(\"tsp5.txt\") as data_file:\n",
    "    nb=0\n",
    "    print(\"expected number of vertices : [0]\\n\".format(int(data_file.readline())))\n",
    "    coord = []\n",
    "   \n",
    "    for line in data_file:\n",
    "        print(\"reading point {0}: {1}\".format(nb, tuple(float(x) for x in line.split())))\n",
    "        nb = nb +1\n",
    "        coord.append(tuple(float(x) for x in line.split()))\n",
    "       \n",
    "    print(\" \\nnumber of vertices: {0}\".format(nb))\n",
    "    \n",
    "dist5 = np.zeros((len(coord),len(coord)))\n",
    "\n",
    "for i in range(len(coord)):\n",
    "    for j in range(len(coord)):\n",
    "        dist5[i][j] = euclidean(coord[i], coord[j])\n",
    "        dist5[j][i] = dist5[i][j]\n",
    "        "
   ]
  },
  {
   "cell_type": "markdown",
   "metadata": {},
   "source": [
    "Q2: Implementation of Held-Karp's algorithm:\n",
    "\n",
    "We consider a graph as input and we will consider it a distance matrix G: for any (i,j), G(i,j) is the distance between node i and node j"
   ]
  },
  {
   "cell_type": "code",
   "execution_count": 139,
   "metadata": {
    "collapsed": true
   },
   "outputs": [],
   "source": [
    "# Let us import the relevant packages\n",
    "import itertools\n",
    "import numpy as np\n",
    "\n",
    "# The below function is used to compute the minimum elements required in the Held-Karp algorithm \n",
    "def min_within_subset(subset,j, L, G):\n",
    "    dist = []\n",
    "    if j!=0:\n",
    "        \n",
    "        inter_subset = set(subset)\n",
    "        inter_subset.remove(j)\n",
    "        new_subset = tuple(inter_subset)\n",
    "    else:\n",
    "        new_subset = subset\n",
    "    \n",
    "    for k in subset:\n",
    "         \n",
    "        if k != j :\n",
    "            dist.append(L[(new_subset, k)]+G[j,k])\n",
    "           \n",
    "    return(min(dist))    \n",
    "\n",
    "# Below, the Held-Karp algorithm aimed at calculating the shortest tour for a given graph G\n",
    "def held_karp(G):\n",
    "    n = len(G)\n",
    "    L = {}\n",
    "    \n",
    "    for i in range(1,n):\n",
    "        L[((i,), i)] = G[0,i]\n",
    "        \n",
    "    for subset_size in range(2,n):\n",
    "        for subset in itertools.combinations(range(1,n), subset_size):\n",
    "            for j in subset :\n",
    "                L[(subset,j)] = min_within_subset(subset,j, L, G)\n",
    "                \n",
    "    length_shortest_path = min_within_subset(tuple(range(1,n)),0, L, G)\n",
    "    \n",
    "    return(\"The length of the shortest tour for G is: \"+str(length_shortest_path))\n",
    "        "
   ]
  },
  {
   "cell_type": "markdown",
   "metadata": {},
   "source": [
    "First, we test our algorithm on the example from the lecture notes."
   ]
  },
  {
   "cell_type": "code",
   "execution_count": 136,
   "metadata": {},
   "outputs": [
    {
     "name": "stdout",
     "output_type": "stream",
     "text": [
      "[[ 0.  2.  1.  4.]\n",
      " [ 2.  0.  3.  5.]\n",
      " [ 1.  3.  0.  6.]\n",
      " [ 4.  5.  6.  0.]]\n"
     ]
    }
   ],
   "source": [
    "g = np.zeros((4,4))\n",
    "g[0][0]=0\n",
    "g[0][1]=2\n",
    "g[0][2]=1\n",
    "g[0][3]=4\n",
    "g[1][0]=2\n",
    "g[1][1]=0\n",
    "g[1][2]=3\n",
    "g[1][3]=5\n",
    "g[2][0]=1\n",
    "g[2][1]=3\n",
    "g[2][2]=0\n",
    "g[2][3]=6\n",
    "g[3][0]=4\n",
    "g[3][1]=5\n",
    "g[3][2]=6\n",
    "g[3][3]=0\n",
    "print(g)"
   ]
  },
  {
   "cell_type": "markdown",
   "metadata": {},
   "source": [
    "Our algorithm works on this example!"
   ]
  },
  {
   "cell_type": "code",
   "execution_count": 137,
   "metadata": {},
   "outputs": [
    {
     "data": {
      "text/plain": [
       "'The length of the shortest tour for G is: 13.0'"
      ]
     },
     "execution_count": 137,
     "metadata": {},
     "output_type": "execute_result"
    }
   ],
   "source": [
    "held_karp(g)"
   ]
  },
  {
   "cell_type": "markdown",
   "metadata": {},
   "source": [
    "Q3: Let us test the algorithm on the provided files"
   ]
  },
  {
   "cell_type": "code",
   "execution_count": 138,
   "metadata": {},
   "outputs": [
    {
     "data": {
      "text/plain": [
       "'The length of the shortest tour for G is: 8387.07713028'"
      ]
     },
     "execution_count": 138,
     "metadata": {},
     "output_type": "execute_result"
    }
   ],
   "source": [
    "held_karp(dist5)"
   ]
  }
 ],
 "metadata": {
  "kernelspec": {
   "display_name": "Python 3",
   "language": "python",
   "name": "python3"
  },
  "language_info": {
   "codemirror_mode": {
    "name": "ipython",
    "version": 3
   },
   "file_extension": ".py",
   "mimetype": "text/x-python",
   "name": "python",
   "nbconvert_exporter": "python",
   "pygments_lexer": "ipython3",
   "version": "3.6.1"
  }
 },
 "nbformat": 4,
 "nbformat_minor": 2
}
